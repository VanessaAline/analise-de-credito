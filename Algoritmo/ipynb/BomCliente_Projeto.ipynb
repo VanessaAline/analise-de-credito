{
  "nbformat": 4,
  "nbformat_minor": 0,
  "metadata": {
    "colab": {
      "name": "BomCliente_Projeto.ipynb",
      "provenance": [],
      "collapsed_sections": [
        "wHEVLExc0kLy",
        "YOzX28Zj0rXd",
        "XmpFiic80xU8",
        "8PPLJf2vaLbP",
        "AeEnpIoGatPu",
        "h4-G8vc4bEWJ",
        "oUBh8F_ZbX8W",
        "zK-QBekhbf6q"
      ],
      "toc_visible": true
    },
    "kernelspec": {
      "name": "python3",
      "display_name": "Python 3"
    }
  },
  "cells": [
    {
      "cell_type": "markdown",
      "metadata": {
        "id": "AU3XzY4cLJrd",
        "colab_type": "text"
      },
      "source": [
        "# Importando Bibliotecas"
      ]
    },
    {
      "cell_type": "code",
      "metadata": {
        "id": "zMO1tsp2LZ4K",
        "colab_type": "code",
        "colab": {}
      },
      "source": [
        "#Libraries\n",
        "import numpy as np\n",
        "import pandas as pd\n",
        "import matplotlib.pyplot as plt;\n",
        "import seaborn as sns\n",
        "\n",
        "from sklearn.model_selection import train_test_split\n",
        "from sklearn.model_selection import GridSearchCV\n",
        "\n",
        "from sklearn.neighbors import KNeighborsClassifier\n",
        "from sklearn.tree import DecisionTreeClassifier\n",
        "from sklearn.neural_network import MLPClassifier\n",
        "\n",
        "from sklearn import metrics\n",
        "\n",
        "import warnings\n",
        "warnings.filterwarnings(\"ignore\")"
      ],
      "execution_count": null,
      "outputs": []
    },
    {
      "cell_type": "code",
      "metadata": {
        "id": "XTw30-FLLcty",
        "colab_type": "code",
        "colab": {}
      },
      "source": [
        "#Carregando os dados\n",
        "dados = pd.read_csv('Analise_de_credito.csv', sep=';')"
      ],
      "execution_count": null,
      "outputs": []
    },
    {
      "cell_type": "code",
      "metadata": {
        "id": "2FoAGR9yOZuq",
        "colab_type": "code",
        "colab": {
          "base_uri": "https://localhost:8080/",
          "height": 254
        },
        "outputId": "a76e0e18-8780-401b-e2d2-25a848fe632a"
      },
      "source": [
        "dados.head()"
      ],
      "execution_count": null,
      "outputs": [
        {
          "output_type": "execute_result",
          "data": {
            "text/html": [
              "<div>\n",
              "<style scoped>\n",
              "    .dataframe tbody tr th:only-of-type {\n",
              "        vertical-align: middle;\n",
              "    }\n",
              "\n",
              "    .dataframe tbody tr th {\n",
              "        vertical-align: top;\n",
              "    }\n",
              "\n",
              "    .dataframe thead th {\n",
              "        text-align: right;\n",
              "    }\n",
              "</style>\n",
              "<table border=\"1\" class=\"dataframe\">\n",
              "  <thead>\n",
              "    <tr style=\"text-align: right;\">\n",
              "      <th></th>\n",
              "      <th>ID</th>\n",
              "      <th>checking_status</th>\n",
              "      <th>credit_history</th>\n",
              "      <th>duration</th>\n",
              "      <th>credit_amount</th>\n",
              "      <th>installment_commitment</th>\n",
              "      <th>residence_since</th>\n",
              "      <th>age</th>\n",
              "      <th>existing_credits</th>\n",
              "      <th>num_dependents</th>\n",
              "      <th>class</th>\n",
              "    </tr>\n",
              "  </thead>\n",
              "  <tbody>\n",
              "    <tr>\n",
              "      <th>0</th>\n",
              "      <td>1</td>\n",
              "      <td>&lt;0</td>\n",
              "      <td>critical/other existing credit</td>\n",
              "      <td>6</td>\n",
              "      <td>1169</td>\n",
              "      <td>4</td>\n",
              "      <td>4</td>\n",
              "      <td>67</td>\n",
              "      <td>2</td>\n",
              "      <td>1</td>\n",
              "      <td>good</td>\n",
              "    </tr>\n",
              "    <tr>\n",
              "      <th>1</th>\n",
              "      <td>2</td>\n",
              "      <td>0&lt;=X&lt;200</td>\n",
              "      <td>existing paid</td>\n",
              "      <td>48</td>\n",
              "      <td>5951</td>\n",
              "      <td>2</td>\n",
              "      <td>2</td>\n",
              "      <td>22</td>\n",
              "      <td>1</td>\n",
              "      <td>1</td>\n",
              "      <td>bad</td>\n",
              "    </tr>\n",
              "    <tr>\n",
              "      <th>2</th>\n",
              "      <td>3</td>\n",
              "      <td>no checking</td>\n",
              "      <td>critical/other existing credit</td>\n",
              "      <td>12</td>\n",
              "      <td>2096</td>\n",
              "      <td>2</td>\n",
              "      <td>3</td>\n",
              "      <td>49</td>\n",
              "      <td>1</td>\n",
              "      <td>2</td>\n",
              "      <td>good</td>\n",
              "    </tr>\n",
              "    <tr>\n",
              "      <th>3</th>\n",
              "      <td>4</td>\n",
              "      <td>&lt;0</td>\n",
              "      <td>existing paid</td>\n",
              "      <td>42</td>\n",
              "      <td>7882</td>\n",
              "      <td>2</td>\n",
              "      <td>4</td>\n",
              "      <td>45</td>\n",
              "      <td>1</td>\n",
              "      <td>2</td>\n",
              "      <td>good</td>\n",
              "    </tr>\n",
              "    <tr>\n",
              "      <th>4</th>\n",
              "      <td>5</td>\n",
              "      <td>&lt;0</td>\n",
              "      <td>delayed previously</td>\n",
              "      <td>24</td>\n",
              "      <td>4870</td>\n",
              "      <td>3</td>\n",
              "      <td>4</td>\n",
              "      <td>53</td>\n",
              "      <td>2</td>\n",
              "      <td>2</td>\n",
              "      <td>bad</td>\n",
              "    </tr>\n",
              "  </tbody>\n",
              "</table>\n",
              "</div>"
            ],
            "text/plain": [
              "   ID checking_status  ... num_dependents  class\n",
              "0   1              <0  ...              1   good\n",
              "1   2        0<=X<200  ...              1    bad\n",
              "2   3     no checking  ...              2   good\n",
              "3   4              <0  ...              2   good\n",
              "4   5              <0  ...              2    bad\n",
              "\n",
              "[5 rows x 11 columns]"
            ]
          },
          "metadata": {
            "tags": []
          },
          "execution_count": 3
        }
      ]
    },
    {
      "cell_type": "markdown",
      "metadata": {
        "id": "trJG6deXGrhK",
        "colab_type": "text"
      },
      "source": [
        "# Conhecendo os dados"
      ]
    },
    {
      "cell_type": "code",
      "metadata": {
        "id": "QAkcaNotEWAF",
        "colab_type": "code",
        "colab": {
          "base_uri": "https://localhost:8080/",
          "height": 35
        },
        "outputId": "2ff7f357-300b-4596-e70e-35a652dc5686"
      },
      "source": [
        "#(Linhas, Colunas)\n",
        "dados.shape"
      ],
      "execution_count": null,
      "outputs": [
        {
          "output_type": "execute_result",
          "data": {
            "text/plain": [
              "(1000, 11)"
            ]
          },
          "metadata": {
            "tags": []
          },
          "execution_count": 4
        }
      ]
    },
    {
      "cell_type": "code",
      "metadata": {
        "id": "cnNl-1TvOtkr",
        "colab_type": "code",
        "colab": {
          "base_uri": "https://localhost:8080/",
          "height": 87
        },
        "outputId": "fcd86ef1-e7e8-44f7-d434-64e14cfe39a9"
      },
      "source": [
        "#Nome das Colunas\n",
        "dados.columns"
      ],
      "execution_count": null,
      "outputs": [
        {
          "output_type": "execute_result",
          "data": {
            "text/plain": [
              "Index(['ID', 'checking_status', 'credit_history', 'duration', 'credit_amount',\n",
              "       'installment_commitment', 'residence_since', 'age', 'existing_credits',\n",
              "       'num_dependents', 'class'],\n",
              "      dtype='object')"
            ]
          },
          "metadata": {
            "tags": []
          },
          "execution_count": 5
        }
      ]
    },
    {
      "cell_type": "code",
      "metadata": {
        "id": "tbDozP8nLapo",
        "colab_type": "code",
        "colab": {
          "base_uri": "https://localhost:8080/",
          "height": 35
        },
        "outputId": "453d5e01-7509-4197-87d0-adece895fe9d"
      },
      "source": [
        "dados['class'].unique()"
      ],
      "execution_count": null,
      "outputs": [
        {
          "output_type": "execute_result",
          "data": {
            "text/plain": [
              "array(['good', 'bad'], dtype=object)"
            ]
          },
          "metadata": {
            "tags": []
          },
          "execution_count": 6
        }
      ]
    },
    {
      "cell_type": "code",
      "metadata": {
        "id": "Iav-toSOPTpe",
        "colab_type": "code",
        "colab": {
          "base_uri": "https://localhost:8080/",
          "height": 35
        },
        "outputId": "034dad24-cf2f-4533-aab5-7ad8085cc1f1"
      },
      "source": [
        "dados['checking_status'].unique()"
      ],
      "execution_count": null,
      "outputs": [
        {
          "output_type": "execute_result",
          "data": {
            "text/plain": [
              "array(['<0', '0<=X<200', 'no checking', '>=200'], dtype=object)"
            ]
          },
          "metadata": {
            "tags": []
          },
          "execution_count": 7
        }
      ]
    },
    {
      "cell_type": "code",
      "metadata": {
        "id": "L9rfk1k4Q1oG",
        "colab_type": "code",
        "colab": {
          "base_uri": "https://localhost:8080/",
          "height": 280
        },
        "outputId": "95f3ca75-db62-4cc9-c5a0-a337e67538fa"
      },
      "source": [
        "sns.countplot(x='checking_status', data=dados)\n",
        "plt.show()"
      ],
      "execution_count": null,
      "outputs": [
        {
          "output_type": "display_data",
          "data": {
            "image/png": "[encoded data removed]",
            "text/plain": [
              "<Figure size 432x288 with 1 Axes>"
            ]
          },
          "metadata": {
            "tags": [],
            "needs_background": "light"
          }
        }
      ]
    },
    {
      "cell_type": "code",
      "metadata": {
        "id": "s_HZurH3PT46",
        "colab_type": "code",
        "colab": {
          "base_uri": "https://localhost:8080/",
          "height": 69
        },
        "outputId": "626d4ce3-c57d-4798-f530-f02934be2dc6"
      },
      "source": [
        "dados['credit_history'].unique()"
      ],
      "execution_count": null,
      "outputs": [
        {
          "output_type": "execute_result",
          "data": {
            "text/plain": [
              "array(['critical/other existing credit', 'existing paid',\n",
              "       'delayed previously', 'no credits/all paid', 'all paid'],\n",
              "      dtype=object)"
            ]
          },
          "metadata": {
            "tags": []
          },
          "execution_count": 9
        }
      ]
    },
    {
      "cell_type": "code",
      "metadata": {
        "id": "ondbttYlQpSz",
        "colab_type": "code",
        "colab": {
          "base_uri": "https://localhost:8080/",
          "height": 280
        },
        "outputId": "14240965-b800-4e87-a4d9-a83f172df0e9"
      },
      "source": [
        "sns.countplot(x='credit_history', data=dados)\n",
        "plt.show()"
      ],
      "execution_count": null,
      "outputs": [
        {
          "output_type": "display_data",
          "data": {
            "image/png": "[encoded data removed]",
            "text/plain": [
              "<Figure size 432x288 with 1 Axes>"
            ]
          },
          "metadata": {
            "tags": [],
            "needs_background": "light"
          }
        }
      ]
    },
    {
      "cell_type": "code",
      "metadata": {
        "id": "PhegvmM4LmWj",
        "colab_type": "code",
        "colab": {
          "base_uri": "https://localhost:8080/",
          "height": 279
        },
        "outputId": "4a4cac72-82c8-4282-92e2-7459edfa8d81"
      },
      "source": [
        "sns.countplot(x='class', data=dados)\n",
        "plt.show()"
      ],
      "execution_count": null,
      "outputs": [
        {
          "output_type": "display_data",
          "data": {
            "image/png": "[encoded data removed]",
            "text/plain": [
              "<Figure size 432x288 with 1 Axes>"
            ]
          },
          "metadata": {
            "tags": [],
            "needs_background": "light"
          }
        }
      ]
    },
    {
      "cell_type": "code",
      "metadata": {
        "id": "Hq6-GbMkM06K",
        "colab_type": "code",
        "colab": {
          "base_uri": "https://localhost:8080/",
          "height": 225
        },
        "outputId": "92e69c48-8458-4c74-f035-acb024bf868c"
      },
      "source": [
        "#Verificando se existe dados NULL no dataset\n",
        "dados.isnull().sum()"
      ],
      "execution_count": null,
      "outputs": [
        {
          "output_type": "execute_result",
          "data": {
            "text/plain": [
              "ID                        0\n",
              "checking_status           0\n",
              "credit_history            0\n",
              "duration                  0\n",
              "credit_amount             0\n",
              "installment_commitment    0\n",
              "residence_since           0\n",
              "age                       0\n",
              "existing_credits          0\n",
              "num_dependents            0\n",
              "class                     0\n",
              "dtype: int64"
            ]
          },
          "metadata": {
            "tags": []
          },
          "execution_count": 12
        }
      ]
    },
    {
      "cell_type": "code",
      "metadata": {
        "id": "4UwcZCyINRx6",
        "colab_type": "code",
        "colab": {
          "base_uri": "https://localhost:8080/",
          "height": 329
        },
        "outputId": "34ade50d-af97-415a-f783-cb21edba5da4"
      },
      "source": [
        "dados.info()"
      ],
      "execution_count": null,
      "outputs": [
        {
          "output_type": "stream",
          "text": [
            "<class 'pandas.core.frame.DataFrame'>\n",
            "RangeIndex: 1000 entries, 0 to 999\n",
            "Data columns (total 11 columns):\n",
            " #   Column                  Non-Null Count  Dtype \n",
            "---  ------                  --------------  ----- \n",
            " 0   ID                      1000 non-null   int64 \n",
            " 1   checking_status         1000 non-null   object\n",
            " 2   credit_history          1000 non-null   object\n",
            " 3   duration                1000 non-null   int64 \n",
            " 4   credit_amount           1000 non-null   int64 \n",
            " 5   installment_commitment  1000 non-null   int64 \n",
            " 6   residence_since         1000 non-null   int64 \n",
            " 7   age                     1000 non-null   int64 \n",
            " 8   existing_credits        1000 non-null   int64 \n",
            " 9   num_dependents          1000 non-null   int64 \n",
            " 10  class                   1000 non-null   object\n",
            "dtypes: int64(8), object(3)\n",
            "memory usage: 86.1+ KB\n"
          ],
          "name": "stdout"
        }
      ]
    },
    {
      "cell_type": "markdown",
      "metadata": {
        "id": "jQEyxgFAPf-t",
        "colab_type": "text"
      },
      "source": [
        "# Tratando os dados"
      ]
    },
    {
      "cell_type": "code",
      "metadata": {
        "id": "T9Jt1LrqPlFY",
        "colab_type": "code",
        "colab": {}
      },
      "source": [
        "#Excluindo coluna desnecessária - ID\n",
        "del dados['ID']"
      ],
      "execution_count": null,
      "outputs": []
    },
    {
      "cell_type": "code",
      "metadata": {
        "id": "5n3uy-RJVOH7",
        "colab_type": "code",
        "colab": {}
      },
      "source": [
        "#Transformando as Colunas 'class' em Numérico\n",
        "Classe = pd.get_dummies(dados['class'], drop_first=True)\n",
        "#Classe"
      ],
      "execution_count": null,
      "outputs": []
    },
    {
      "cell_type": "code",
      "metadata": {
        "id": "zz9attGsr-R0",
        "colab_type": "code",
        "colab": {}
      },
      "source": [
        "#Renomeando tudo que for igual á '<0' para Negativo\n",
        "dados['checking_status'][dados['checking_status'] =='<0'] = 'Negativo'\n",
        "\n",
        "#dados['checking_status'][dados['checking_status'] == 'Negativo']"
      ],
      "execution_count": null,
      "outputs": []
    },
    {
      "cell_type": "code",
      "metadata": {
        "id": "Tk1Ub1E_SjQG",
        "colab_type": "code",
        "colab": {}
      },
      "source": [
        "dados['checking_status'][dados['checking_status'] !='Negativo'] = 'Positivo'\n",
        "\n",
        "#dados['checking_status'][dados['checking_status'] == 'Positivo']"
      ],
      "execution_count": null,
      "outputs": []
    },
    {
      "cell_type": "code",
      "metadata": {
        "id": "a4JA4lNiU2E3",
        "colab_type": "code",
        "colab": {
          "base_uri": "https://localhost:8080/",
          "height": 280
        },
        "outputId": "dc093a26-5d10-4bc8-f9b9-0f7ed9e87fa5"
      },
      "source": [
        "sns.countplot(x='checking_status', data=dados)\n",
        "plt.show()"
      ],
      "execution_count": null,
      "outputs": [
        {
          "output_type": "display_data",
          "data": {
            "image/png": "[encoded data removed]",
            "text/plain": [
              "<Figure size 432x288 with 1 Axes>"
            ]
          },
          "metadata": {
            "tags": [],
            "needs_background": "light"
          }
        }
      ]
    },
    {
      "cell_type": "code",
      "metadata": {
        "id": "QBYWF76vJsZ-",
        "colab_type": "code",
        "colab": {}
      },
      "source": [
        "#Transformando a Coluna 'checking_status' em Numérico\n",
        "Checking_S = pd.get_dummies(dados['checking_status'], drop_first=True)\n",
        "#Checking_S"
      ],
      "execution_count": null,
      "outputs": []
    },
    {
      "cell_type": "code",
      "metadata": {
        "id": "VpYVhD-bwhy-",
        "colab_type": "code",
        "colab": {
          "base_uri": "https://localhost:8080/",
          "height": 280
        },
        "outputId": "1263e9a7-8ec4-4194-f508-07f76cde33a4"
      },
      "source": [
        "sns.countplot(x='credit_history', data=dados)\n",
        "plt.show()"
      ],
      "execution_count": null,
      "outputs": [
        {
          "output_type": "display_data",
          "data": {
            "image/png": "[encoded data removed]",
            "text/plain": [
              "<Figure size 432x288 with 1 Axes>"
            ]
          },
          "metadata": {
            "tags": [],
            "needs_background": "light"
          }
        }
      ]
    },
    {
      "cell_type": "code",
      "metadata": {
        "id": "YrJkT6aZhTkm",
        "colab_type": "code",
        "colab": {
          "base_uri": "https://localhost:8080/",
          "height": 69
        },
        "outputId": "f746887f-6566-4d59-e3c7-b797a3c00515"
      },
      "source": [
        "dados['credit_history'].unique()"
      ],
      "execution_count": null,
      "outputs": [
        {
          "output_type": "execute_result",
          "data": {
            "text/plain": [
              "array(['critical/other existing credit', 'existing paid',\n",
              "       'delayed previously', 'no credits/all paid', 'all paid'],\n",
              "      dtype=object)"
            ]
          },
          "metadata": {
            "tags": []
          },
          "execution_count": 21
        }
      ]
    },
    {
      "cell_type": "code",
      "metadata": {
        "id": "L6qIJLNAwT8j",
        "colab_type": "code",
        "colab": {}
      },
      "source": [
        "#Transformando a Coluna 'credit_history'\n",
        "dados['credit_history'][dados['credit_history'] =='existing paid'] = 'Existente Pago'\n",
        "dados['credit_history'][dados['credit_history'] =='no credits/all paid'] = 'Sem crédito'\n",
        "dados['credit_history'][dados['credit_history'] =='all paid'] = 'Em dias'\n",
        "dados['credit_history'][dados['credit_history'] =='delayed previously'] = 'Em Atraso'\n",
        "dados['credit_history'][dados['credit_history'] =='critical/other existing credit'] = 'Critico'"
      ],
      "execution_count": null,
      "outputs": []
    },
    {
      "cell_type": "code",
      "metadata": {
        "id": "IPXWeag206bw",
        "colab_type": "code",
        "colab": {
          "base_uri": "https://localhost:8080/",
          "height": 280
        },
        "outputId": "d0df6cb1-8991-484a-f21d-cd22cf3a4910"
      },
      "source": [
        "sns.countplot(x='credit_history', data=dados)\n",
        "plt.show()"
      ],
      "execution_count": null,
      "outputs": [
        {
          "output_type": "display_data",
          "data": {
            "image/png": "[encoded data removed]",
            "text/plain": [
              "<Figure size 432x288 with 1 Axes>"
            ]
          },
          "metadata": {
            "tags": [],
            "needs_background": "light"
          }
        }
      ]
    },
    {
      "cell_type": "code",
      "metadata": {
        "id": "r3vR63IG1DRh",
        "colab_type": "code",
        "colab": {
          "base_uri": "https://localhost:8080/",
          "height": 415
        },
        "outputId": "80705d5e-3b43-44f6-9052-47dfd7e37cff"
      },
      "source": [
        "#Transformando a Coluna 'credit_history' em Numérico\n",
        "Credit_H = pd.get_dummies(dados['credit_history'], drop_first=True)\n",
        "Credit_H"
      ],
      "execution_count": null,
      "outputs": [
        {
          "output_type": "execute_result",
          "data": {
            "text/html": [
              "<div>\n",
              "<style scoped>\n",
              "    .dataframe tbody tr th:only-of-type {\n",
              "        vertical-align: middle;\n",
              "    }\n",
              "\n",
              "    .dataframe tbody tr th {\n",
              "        vertical-align: top;\n",
              "    }\n",
              "\n",
              "    .dataframe thead th {\n",
              "        text-align: right;\n",
              "    }\n",
              "</style>\n",
              "<table border=\"1\" class=\"dataframe\">\n",
              "  <thead>\n",
              "    <tr style=\"text-align: right;\">\n",
              "      <th></th>\n",
              "      <th>Em Atraso</th>\n",
              "      <th>Em dias</th>\n",
              "      <th>Existente Pago</th>\n",
              "      <th>Sem crédito</th>\n",
              "    </tr>\n",
              "  </thead>\n",
              "  <tbody>\n",
              "    <tr>\n",
              "      <th>0</th>\n",
              "      <td>0</td>\n",
              "      <td>0</td>\n",
              "      <td>0</td>\n",
              "      <td>0</td>\n",
              "    </tr>\n",
              "    <tr>\n",
              "      <th>1</th>\n",
              "      <td>0</td>\n",
              "      <td>0</td>\n",
              "      <td>1</td>\n",
              "      <td>0</td>\n",
              "    </tr>\n",
              "    <tr>\n",
              "      <th>2</th>\n",
              "      <td>0</td>\n",
              "      <td>0</td>\n",
              "      <td>0</td>\n",
              "      <td>0</td>\n",
              "    </tr>\n",
              "    <tr>\n",
              "      <th>3</th>\n",
              "      <td>0</td>\n",
              "      <td>0</td>\n",
              "      <td>1</td>\n",
              "      <td>0</td>\n",
              "    </tr>\n",
              "    <tr>\n",
              "      <th>4</th>\n",
              "      <td>1</td>\n",
              "      <td>0</td>\n",
              "      <td>0</td>\n",
              "      <td>0</td>\n",
              "    </tr>\n",
              "    <tr>\n",
              "      <th>...</th>\n",
              "      <td>...</td>\n",
              "      <td>...</td>\n",
              "      <td>...</td>\n",
              "      <td>...</td>\n",
              "    </tr>\n",
              "    <tr>\n",
              "      <th>995</th>\n",
              "      <td>0</td>\n",
              "      <td>0</td>\n",
              "      <td>1</td>\n",
              "      <td>0</td>\n",
              "    </tr>\n",
              "    <tr>\n",
              "      <th>996</th>\n",
              "      <td>0</td>\n",
              "      <td>0</td>\n",
              "      <td>1</td>\n",
              "      <td>0</td>\n",
              "    </tr>\n",
              "    <tr>\n",
              "      <th>997</th>\n",
              "      <td>0</td>\n",
              "      <td>0</td>\n",
              "      <td>1</td>\n",
              "      <td>0</td>\n",
              "    </tr>\n",
              "    <tr>\n",
              "      <th>998</th>\n",
              "      <td>0</td>\n",
              "      <td>0</td>\n",
              "      <td>1</td>\n",
              "      <td>0</td>\n",
              "    </tr>\n",
              "    <tr>\n",
              "      <th>999</th>\n",
              "      <td>0</td>\n",
              "      <td>0</td>\n",
              "      <td>0</td>\n",
              "      <td>0</td>\n",
              "    </tr>\n",
              "  </tbody>\n",
              "</table>\n",
              "<p>1000 rows × 4 columns</p>\n",
              "</div>"
            ],
            "text/plain": [
              "     Em Atraso  Em dias  Existente Pago  Sem crédito\n",
              "0            0        0               0            0\n",
              "1            0        0               1            0\n",
              "2            0        0               0            0\n",
              "3            0        0               1            0\n",
              "4            1        0               0            0\n",
              "..         ...      ...             ...          ...\n",
              "995          0        0               1            0\n",
              "996          0        0               1            0\n",
              "997          0        0               1            0\n",
              "998          0        0               1            0\n",
              "999          0        0               0            0\n",
              "\n",
              "[1000 rows x 4 columns]"
            ]
          },
          "metadata": {
            "tags": []
          },
          "execution_count": 24
        }
      ]
    },
    {
      "cell_type": "code",
      "metadata": {
        "id": "8lDAg33VTjZ8",
        "colab_type": "code",
        "colab": {}
      },
      "source": [
        "#Deletando colunas inicias\n",
        "dados.drop(['class','checking_status','credit_history'], axis=1,inplace=True)"
      ],
      "execution_count": null,
      "outputs": []
    },
    {
      "cell_type": "code",
      "metadata": {
        "id": "GTpG4wwyTDYs",
        "colab_type": "code",
        "colab": {}
      },
      "source": [
        "#Concatenando com as colunas trasformadas\n",
        "dados = pd.concat([dados,Classe,Checking_S,Credit_H],axis=1)"
      ],
      "execution_count": null,
      "outputs": []
    },
    {
      "cell_type": "code",
      "metadata": {
        "id": "BeyiTMtSTrOh",
        "colab_type": "code",
        "colab": {
          "base_uri": "https://localhost:8080/",
          "height": 239
        },
        "outputId": "74adbb86-4ed1-4d78-ea39-74bdbfdd92e6"
      },
      "source": [
        "dados.head()"
      ],
      "execution_count": null,
      "outputs": [
        {
          "output_type": "execute_result",
          "data": {
            "text/html": [
              "<div>\n",
              "<style scoped>\n",
              "    .dataframe tbody tr th:only-of-type {\n",
              "        vertical-align: middle;\n",
              "    }\n",
              "\n",
              "    .dataframe tbody tr th {\n",
              "        vertical-align: top;\n",
              "    }\n",
              "\n",
              "    .dataframe thead th {\n",
              "        text-align: right;\n",
              "    }\n",
              "</style>\n",
              "<table border=\"1\" class=\"dataframe\">\n",
              "  <thead>\n",
              "    <tr style=\"text-align: right;\">\n",
              "      <th></th>\n",
              "      <th>duration</th>\n",
              "      <th>credit_amount</th>\n",
              "      <th>installment_commitment</th>\n",
              "      <th>residence_since</th>\n",
              "      <th>age</th>\n",
              "      <th>existing_credits</th>\n",
              "      <th>num_dependents</th>\n",
              "      <th>good</th>\n",
              "      <th>Positivo</th>\n",
              "      <th>Em Atraso</th>\n",
              "      <th>Em dias</th>\n",
              "      <th>Existente Pago</th>\n",
              "      <th>Sem crédito</th>\n",
              "    </tr>\n",
              "  </thead>\n",
              "  <tbody>\n",
              "    <tr>\n",
              "      <th>0</th>\n",
              "      <td>6</td>\n",
              "      <td>1169</td>\n",
              "      <td>4</td>\n",
              "      <td>4</td>\n",
              "      <td>67</td>\n",
              "      <td>2</td>\n",
              "      <td>1</td>\n",
              "      <td>1</td>\n",
              "      <td>0</td>\n",
              "      <td>0</td>\n",
              "      <td>0</td>\n",
              "      <td>0</td>\n",
              "      <td>0</td>\n",
              "    </tr>\n",
              "    <tr>\n",
              "      <th>1</th>\n",
              "      <td>48</td>\n",
              "      <td>5951</td>\n",
              "      <td>2</td>\n",
              "      <td>2</td>\n",
              "      <td>22</td>\n",
              "      <td>1</td>\n",
              "      <td>1</td>\n",
              "      <td>0</td>\n",
              "      <td>1</td>\n",
              "      <td>0</td>\n",
              "      <td>0</td>\n",
              "      <td>1</td>\n",
              "      <td>0</td>\n",
              "    </tr>\n",
              "    <tr>\n",
              "      <th>2</th>\n",
              "      <td>12</td>\n",
              "      <td>2096</td>\n",
              "      <td>2</td>\n",
              "      <td>3</td>\n",
              "      <td>49</td>\n",
              "      <td>1</td>\n",
              "      <td>2</td>\n",
              "      <td>1</td>\n",
              "      <td>1</td>\n",
              "      <td>0</td>\n",
              "      <td>0</td>\n",
              "      <td>0</td>\n",
              "      <td>0</td>\n",
              "    </tr>\n",
              "    <tr>\n",
              "      <th>3</th>\n",
              "      <td>42</td>\n",
              "      <td>7882</td>\n",
              "      <td>2</td>\n",
              "      <td>4</td>\n",
              "      <td>45</td>\n",
              "      <td>1</td>\n",
              "      <td>2</td>\n",
              "      <td>1</td>\n",
              "      <td>0</td>\n",
              "      <td>0</td>\n",
              "      <td>0</td>\n",
              "      <td>1</td>\n",
              "      <td>0</td>\n",
              "    </tr>\n",
              "    <tr>\n",
              "      <th>4</th>\n",
              "      <td>24</td>\n",
              "      <td>4870</td>\n",
              "      <td>3</td>\n",
              "      <td>4</td>\n",
              "      <td>53</td>\n",
              "      <td>2</td>\n",
              "      <td>2</td>\n",
              "      <td>0</td>\n",
              "      <td>0</td>\n",
              "      <td>1</td>\n",
              "      <td>0</td>\n",
              "      <td>0</td>\n",
              "      <td>0</td>\n",
              "    </tr>\n",
              "  </tbody>\n",
              "</table>\n",
              "</div>"
            ],
            "text/plain": [
              "   duration  credit_amount  ...  Existente Pago  Sem crédito\n",
              "0         6           1169  ...               0            0\n",
              "1        48           5951  ...               1            0\n",
              "2        12           2096  ...               0            0\n",
              "3        42           7882  ...               1            0\n",
              "4        24           4870  ...               0            0\n",
              "\n",
              "[5 rows x 13 columns]"
            ]
          },
          "metadata": {
            "tags": []
          },
          "execution_count": 27
        }
      ]
    },
    {
      "cell_type": "code",
      "metadata": {
        "id": "7jwmKOH1XzBo",
        "colab_type": "code",
        "colab": {}
      },
      "source": [
        "#Renomeando dataset\n",
        "dados.columns = ['Duração', 'Qtd_de_Crédito', 'Parcelamento', 'Cliente_desde', 'Idade', 'Linha_Crédito_existente', 'Dependentes', 'Status_cliente', 'Saldo','Em Atraso','Em dias','Existente Pago','Sem crédito']"
      ],
      "execution_count": null,
      "outputs": []
    },
    {
      "cell_type": "code",
      "metadata": {
        "id": "vHONJy1qYzqn",
        "colab_type": "code",
        "colab": {
          "base_uri": "https://localhost:8080/",
          "height": 239
        },
        "outputId": "9de6e898-d037-4a74-e79a-c376a73cb6f7"
      },
      "source": [
        "dados.head()"
      ],
      "execution_count": null,
      "outputs": [
        {
          "output_type": "execute_result",
          "data": {
            "text/html": [
              "<div>\n",
              "<style scoped>\n",
              "    .dataframe tbody tr th:only-of-type {\n",
              "        vertical-align: middle;\n",
              "    }\n",
              "\n",
              "    .dataframe tbody tr th {\n",
              "        vertical-align: top;\n",
              "    }\n",
              "\n",
              "    .dataframe thead th {\n",
              "        text-align: right;\n",
              "    }\n",
              "</style>\n",
              "<table border=\"1\" class=\"dataframe\">\n",
              "  <thead>\n",
              "    <tr style=\"text-align: right;\">\n",
              "      <th></th>\n",
              "      <th>Duração</th>\n",
              "      <th>Qtd_de_Crédito</th>\n",
              "      <th>Parcelamento</th>\n",
              "      <th>Cliente_desde</th>\n",
              "      <th>Idade</th>\n",
              "      <th>Linha_Crédito_existente</th>\n",
              "      <th>Dependentes</th>\n",
              "      <th>Status_cliente</th>\n",
              "      <th>Saldo</th>\n",
              "      <th>Em Atraso</th>\n",
              "      <th>Em dias</th>\n",
              "      <th>Existente Pago</th>\n",
              "      <th>Sem crédito</th>\n",
              "    </tr>\n",
              "  </thead>\n",
              "  <tbody>\n",
              "    <tr>\n",
              "      <th>0</th>\n",
              "      <td>6</td>\n",
              "      <td>1169</td>\n",
              "      <td>4</td>\n",
              "      <td>4</td>\n",
              "      <td>67</td>\n",
              "      <td>2</td>\n",
              "      <td>1</td>\n",
              "      <td>1</td>\n",
              "      <td>0</td>\n",
              "      <td>0</td>\n",
              "      <td>0</td>\n",
              "      <td>0</td>\n",
              "      <td>0</td>\n",
              "    </tr>\n",
              "    <tr>\n",
              "      <th>1</th>\n",
              "      <td>48</td>\n",
              "      <td>5951</td>\n",
              "      <td>2</td>\n",
              "      <td>2</td>\n",
              "      <td>22</td>\n",
              "      <td>1</td>\n",
              "      <td>1</td>\n",
              "      <td>0</td>\n",
              "      <td>1</td>\n",
              "      <td>0</td>\n",
              "      <td>0</td>\n",
              "      <td>1</td>\n",
              "      <td>0</td>\n",
              "    </tr>\n",
              "    <tr>\n",
              "      <th>2</th>\n",
              "      <td>12</td>\n",
              "      <td>2096</td>\n",
              "      <td>2</td>\n",
              "      <td>3</td>\n",
              "      <td>49</td>\n",
              "      <td>1</td>\n",
              "      <td>2</td>\n",
              "      <td>1</td>\n",
              "      <td>1</td>\n",
              "      <td>0</td>\n",
              "      <td>0</td>\n",
              "      <td>0</td>\n",
              "      <td>0</td>\n",
              "    </tr>\n",
              "    <tr>\n",
              "      <th>3</th>\n",
              "      <td>42</td>\n",
              "      <td>7882</td>\n",
              "      <td>2</td>\n",
              "      <td>4</td>\n",
              "      <td>45</td>\n",
              "      <td>1</td>\n",
              "      <td>2</td>\n",
              "      <td>1</td>\n",
              "      <td>0</td>\n",
              "      <td>0</td>\n",
              "      <td>0</td>\n",
              "      <td>1</td>\n",
              "      <td>0</td>\n",
              "    </tr>\n",
              "    <tr>\n",
              "      <th>4</th>\n",
              "      <td>24</td>\n",
              "      <td>4870</td>\n",
              "      <td>3</td>\n",
              "      <td>4</td>\n",
              "      <td>53</td>\n",
              "      <td>2</td>\n",
              "      <td>2</td>\n",
              "      <td>0</td>\n",
              "      <td>0</td>\n",
              "      <td>1</td>\n",
              "      <td>0</td>\n",
              "      <td>0</td>\n",
              "      <td>0</td>\n",
              "    </tr>\n",
              "  </tbody>\n",
              "</table>\n",
              "</div>"
            ],
            "text/plain": [
              "   Duração  Qtd_de_Crédito  Parcelamento  ...  Em dias  Existente Pago  Sem crédito\n",
              "0        6            1169             4  ...        0               0            0\n",
              "1       48            5951             2  ...        0               1            0\n",
              "2       12            2096             2  ...        0               0            0\n",
              "3       42            7882             2  ...        0               1            0\n",
              "4       24            4870             3  ...        0               0            0\n",
              "\n",
              "[5 rows x 13 columns]"
            ]
          },
          "metadata": {
            "tags": []
          },
          "execution_count": 29
        }
      ]
    },
    {
      "cell_type": "code",
      "metadata": {
        "id": "GsQgrTqxZJ8U",
        "colab_type": "code",
        "colab": {
          "base_uri": "https://localhost:8080/",
          "height": 364
        },
        "outputId": "ad15b834-dc79-4d4a-f03b-29e7e6ea4267"
      },
      "source": [
        "dados.info()"
      ],
      "execution_count": null,
      "outputs": [
        {
          "output_type": "stream",
          "text": [
            "<class 'pandas.core.frame.DataFrame'>\n",
            "RangeIndex: 1000 entries, 0 to 999\n",
            "Data columns (total 13 columns):\n",
            " #   Column                   Non-Null Count  Dtype\n",
            "---  ------                   --------------  -----\n",
            " 0   Duração                  1000 non-null   int64\n",
            " 1   Qtd_de_Crédito           1000 non-null   int64\n",
            " 2   Parcelamento             1000 non-null   int64\n",
            " 3   Cliente_desde            1000 non-null   int64\n",
            " 4   Idade                    1000 non-null   int64\n",
            " 5   Linha_Crédito_existente  1000 non-null   int64\n",
            " 6   Dependentes              1000 non-null   int64\n",
            " 7   Status_cliente           1000 non-null   uint8\n",
            " 8   Saldo                    1000 non-null   uint8\n",
            " 9   Em Atraso                1000 non-null   uint8\n",
            " 10  Em dias                  1000 non-null   uint8\n",
            " 11  Existente Pago           1000 non-null   uint8\n",
            " 12  Sem crédito              1000 non-null   uint8\n",
            "dtypes: int64(7), uint8(6)\n",
            "memory usage: 60.7 KB\n"
          ],
          "name": "stdout"
        }
      ]
    },
    {
      "cell_type": "code",
      "metadata": {
        "id": "FeCny-1YdSfp",
        "colab_type": "code",
        "colab": {}
      },
      "source": [
        "y = dados['Status_cliente']\n",
        "\n",
        "del dados['Status_cliente']\n",
        "\n",
        "X = dados"
      ],
      "execution_count": null,
      "outputs": []
    },
    {
      "cell_type": "code",
      "metadata": {
        "id": "aG_l0CcBZTHE",
        "colab_type": "code",
        "colab": {}
      },
      "source": [
        "#Separando dados de treino e teste\n",
        "X_train, X_test, y_train, y_test =  train_test_split(X,y,test_size = 0.25, random_state= 0)"
      ],
      "execution_count": null,
      "outputs": []
    },
    {
      "cell_type": "markdown",
      "metadata": {
        "id": "IJGR3FNugWov",
        "colab_type": "text"
      },
      "source": [
        "# Preparação Para o GridSearch"
      ]
    },
    {
      "cell_type": "markdown",
      "metadata": {
        "id": "wHEVLExc0kLy",
        "colab_type": "text"
      },
      "source": [
        "# GridSearch Árvore"
      ]
    },
    {
      "cell_type": "code",
      "metadata": {
        "id": "Oh9uB8QDoacW",
        "colab_type": "code",
        "colab": {}
      },
      "source": [
        "decision_tree = DecisionTreeClassifier()"
      ],
      "execution_count": null,
      "outputs": []
    },
    {
      "cell_type": "code",
      "metadata": {
        "id": "coHzl-1Os12l",
        "colab_type": "code",
        "colab": {
          "base_uri": "https://localhost:8080/"
        },
        "outputId": "b274accf-15b2-4332-9759-b508fdd33ff4"
      },
      "source": [
        "profundidade = [10, 15, 20, 50, 100]\n",
        "criterio = ['gini', 'entropy']\n",
        "\n",
        "melhor_entropy = 0\n",
        "melhor_modelo = None\n",
        "\n",
        "\n",
        "for p in profundidade:\n",
        "  for c in criterio:\n",
        "\n",
        "          cart = DecisionTreeClassifier (criterion= c, max_depth=p)\n",
        "          cart.fit(X_train, y_train)\n",
        "          prev_train = cart.predict(X_train)\n",
        "          melhor_train = metrics.accuracy_score(y_train, prev_train)\n",
        "          \n",
        "          if melhor_train > melhor_entropy:\n",
        "            melhor_entropy = melhor_train\n",
        "            melhor_modelo = cart\n",
        "            print(\"Melhor Modelo:\", melhor_modelo)"
      ],
      "execution_count": null,
      "outputs": [
        {
          "output_type": "stream",
          "text": [
            "Melhor Modelo: DecisionTreeClassifier(ccp_alpha=0.0, class_weight=None, criterion='gini',\n",
            "                       max_depth=10, max_features=None, max_leaf_nodes=None,\n",
            "                       min_impurity_decrease=0.0, min_impurity_split=None,\n",
            "                       min_samples_leaf=1, min_samples_split=2,\n",
            "                       min_weight_fraction_leaf=0.0, presort='deprecated',\n",
            "                       random_state=None, splitter='best')\n",
            "Melhor Modelo: DecisionTreeClassifier(ccp_alpha=0.0, class_weight=None, criterion='gini',\n",
            "                       max_depth=15, max_features=None, max_leaf_nodes=None,\n",
            "                       min_impurity_decrease=0.0, min_impurity_split=None,\n",
            "                       min_samples_leaf=1, min_samples_split=2,\n",
            "                       min_weight_fraction_leaf=0.0, presort='deprecated',\n",
            "                       random_state=None, splitter='best')\n",
            "Melhor Modelo: DecisionTreeClassifier(ccp_alpha=0.0, class_weight=None, criterion='entropy',\n",
            "                       max_depth=15, max_features=None, max_leaf_nodes=None,\n",
            "                       min_impurity_decrease=0.0, min_impurity_split=None,\n",
            "                       min_samples_leaf=1, min_samples_split=2,\n",
            "                       min_weight_fraction_leaf=0.0, presort='deprecated',\n",
            "                       random_state=None, splitter='best')\n",
            "Melhor Modelo: DecisionTreeClassifier(ccp_alpha=0.0, class_weight=None, criterion='gini',\n",
            "                       max_depth=20, max_features=None, max_leaf_nodes=None,\n",
            "                       min_impurity_decrease=0.0, min_impurity_split=None,\n",
            "                       min_samples_leaf=1, min_samples_split=2,\n",
            "                       min_weight_fraction_leaf=0.0, presort='deprecated',\n",
            "                       random_state=None, splitter='best')\n",
            "Melhor Modelo: DecisionTreeClassifier(ccp_alpha=0.0, class_weight=None, criterion='gini',\n",
            "                       max_depth=50, max_features=None, max_leaf_nodes=None,\n",
            "                       min_impurity_decrease=0.0, min_impurity_split=None,\n",
            "                       min_samples_leaf=1, min_samples_split=2,\n",
            "                       min_weight_fraction_leaf=0.0, presort='deprecated',\n",
            "                       random_state=None, splitter='best')\n"
          ],
          "name": "stdout"
        }
      ]
    },
    {
      "cell_type": "code",
      "metadata": {
        "id": "aqYgqxuh9pZS",
        "colab_type": "code",
        "colab": {}
      },
      "source": [
        "melhor_cart = melhor_modelo"
      ],
      "execution_count": null,
      "outputs": []
    },
    {
      "cell_type": "markdown",
      "metadata": {
        "id": "YOzX28Zj0rXd",
        "colab_type": "text"
      },
      "source": [
        "# GridSearch KNN"
      ]
    },
    {
      "cell_type": "code",
      "metadata": {
        "id": "REfmNF7hzKcr",
        "colab_type": "code",
        "colab": {
          "base_uri": "https://localhost:8080/"
        },
        "outputId": "7d92e4fd-88b0-47ce-861f-8e8f72392b03"
      },
      "source": [
        "k = [1, 3, 5, 7, 9] #Usando valores impares para caso de empate\n",
        "distancia = ['euclidean', 'manhattan']\n",
        "peso = ['uniform','distance']\n",
        "\n",
        "melhor_vizinho = 0\n",
        "melhor_modelo = None\n",
        "\n",
        "for k in k:\n",
        "  for d in distancia:\n",
        "    for p in peso:\n",
        "\n",
        "          knn = KNeighborsClassifier (n_neighbors=k, metric=d, weights=p)\n",
        "          knn.fit(X_train, y_train)\n",
        "          prev_train = knn.predict(X_train)\n",
        "          melhor_train = metrics.accuracy_score(y_train, prev_train)\n",
        "          \n",
        "          if melhor_train > melhor_vizinho:\n",
        "            melhor_vizinho = melhor_train\n",
        "            melhor_modelo = knn\n",
        "            print(\"Melhor Modelo:\", melhor_modelo)"
      ],
      "execution_count": null,
      "outputs": [
        {
          "output_type": "stream",
          "text": [
            "Melhor Modelo: KNeighborsClassifier(algorithm='auto', leaf_size=30, metric='euclidean',\n",
            "                     metric_params=None, n_jobs=None, n_neighbors=1, p=2,\n",
            "                     weights='uniform')\n"
          ],
          "name": "stdout"
        }
      ]
    },
    {
      "cell_type": "code",
      "metadata": {
        "id": "D6DVDu2Q1CSP",
        "colab_type": "code",
        "colab": {}
      },
      "source": [
        "melhor_vizinho = melhor_modelo"
      ],
      "execution_count": null,
      "outputs": []
    },
    {
      "cell_type": "markdown",
      "metadata": {
        "id": "XmpFiic80xU8",
        "colab_type": "text"
      },
      "source": [
        "# GridSearch MLP"
      ]
    },
    {
      "cell_type": "code",
      "metadata": {
        "id": "AnpY15MJbfX0",
        "colab_type": "code",
        "colab": {
          "base_uri": "https://localhost:8080/"
        },
        "outputId": "c8a06de9-7c74-459d-db05-0c8a42769220"
      },
      "source": [
        "neuronios = [1, 10, 15, 20, 50, 100]\n",
        "funcAtivacao = ['identity', 'logistic', 'tanh', 'relu']\n",
        "algoTreinamento = ['sgd', 'adam']\n",
        "taxaDeAprendizado = [0.001, 0.0001]\n",
        "\n",
        "melhor_acuracy = 0\n",
        "melhor_modelo = None\n",
        "num_exe = 5\n",
        "\n",
        "\n",
        "for n in neuronios:\n",
        "  for f in funcAtivacao:\n",
        "    for a in algoTreinamento:\n",
        "      for tx in taxaDeAprendizado:\n",
        "\n",
        "        for i in range(0, num_exe):\n",
        "\n",
        "\n",
        "          mlp = MLPClassifier (hidden_layer_sizes=n,  activation=f, solver=a, learning_rate_init=tx )\n",
        "          mlp.fit(X_train, y_train)\n",
        "          prev_train = mlp.predict(X_train)\n",
        "          melhor_train = metrics.accuracy_score(y_train, prev_train)\n",
        "          \n",
        "          if melhor_train > melhor_acuracy:\n",
        "            melhor_acuracy = melhor_train\n",
        "            melhor_modelo = mlp\n",
        "            print(\"Melhor Modelo:\", melhor_modelo)"
      ],
      "execution_count": null,
      "outputs": [
        {
          "output_type": "stream",
          "text": [
            "Melhor Modelo: MLPClassifier(activation='identity', alpha=0.0001, batch_size='auto',\n",
            "              beta_1=0.9, beta_2=0.999, early_stopping=False, epsilon=1e-08,\n",
            "              hidden_layer_sizes=1, learning_rate='constant',\n",
            "              learning_rate_init=0.001, max_fun=15000, max_iter=200,\n",
            "              momentum=0.9, n_iter_no_change=10, nesterovs_momentum=True,\n",
            "              power_t=0.5, random_state=None, shuffle=True, solver='sgd',\n",
            "              tol=0.0001, validation_fraction=0.1, verbose=False,\n",
            "              warm_start=False)\n",
            "Melhor Modelo: MLPClassifier(activation='identity', alpha=0.0001, batch_size='auto',\n",
            "              beta_1=0.9, beta_2=0.999, early_stopping=False, epsilon=1e-08,\n",
            "              hidden_layer_sizes=1, learning_rate='constant',\n",
            "              learning_rate_init=0.0001, max_fun=15000, max_iter=200,\n",
            "              momentum=0.9, n_iter_no_change=10, nesterovs_momentum=True,\n",
            "              power_t=0.5, random_state=None, shuffle=True, solver='sgd',\n",
            "              tol=0.0001, validation_fraction=0.1, verbose=False,\n",
            "              warm_start=False)\n",
            "Melhor Modelo: MLPClassifier(activation='identity', alpha=0.0001, batch_size='auto',\n",
            "              beta_1=0.9, beta_2=0.999, early_stopping=False, epsilon=1e-08,\n",
            "              hidden_layer_sizes=1, learning_rate='constant',\n",
            "              learning_rate_init=0.0001, max_fun=15000, max_iter=200,\n",
            "              momentum=0.9, n_iter_no_change=10, nesterovs_momentum=True,\n",
            "              power_t=0.5, random_state=None, shuffle=True, solver='sgd',\n",
            "              tol=0.0001, validation_fraction=0.1, verbose=False,\n",
            "              warm_start=False)\n",
            "Melhor Modelo: MLPClassifier(activation='identity', alpha=0.0001, batch_size='auto',\n",
            "              beta_1=0.9, beta_2=0.999, early_stopping=False, epsilon=1e-08,\n",
            "              hidden_layer_sizes=1, learning_rate='constant',\n",
            "              learning_rate_init=0.0001, max_fun=15000, max_iter=200,\n",
            "              momentum=0.9, n_iter_no_change=10, nesterovs_momentum=True,\n",
            "              power_t=0.5, random_state=None, shuffle=True, solver='sgd',\n",
            "              tol=0.0001, validation_fraction=0.1, verbose=False,\n",
            "              warm_start=False)\n",
            "Melhor Modelo: MLPClassifier(activation='identity', alpha=0.0001, batch_size='auto',\n",
            "              beta_1=0.9, beta_2=0.999, early_stopping=False, epsilon=1e-08,\n",
            "              hidden_layer_sizes=10, learning_rate='constant',\n",
            "              learning_rate_init=0.001, max_fun=15000, max_iter=200,\n",
            "              momentum=0.9, n_iter_no_change=10, nesterovs_momentum=True,\n",
            "              power_t=0.5, random_state=None, shuffle=True, solver='adam',\n",
            "              tol=0.0001, validation_fraction=0.1, verbose=False,\n",
            "              warm_start=False)\n",
            "Melhor Modelo: MLPClassifier(activation='relu', alpha=0.0001, batch_size='auto', beta_1=0.9,\n",
            "              beta_2=0.999, early_stopping=False, epsilon=1e-08,\n",
            "              hidden_layer_sizes=50, learning_rate='constant',\n",
            "              learning_rate_init=0.001, max_fun=15000, max_iter=200,\n",
            "              momentum=0.9, n_iter_no_change=10, nesterovs_momentum=True,\n",
            "              power_t=0.5, random_state=None, shuffle=True, solver='adam',\n",
            "              tol=0.0001, validation_fraction=0.1, verbose=False,\n",
            "              warm_start=False)\n"
          ],
          "name": "stdout"
        }
      ]
    },
    {
      "cell_type": "code",
      "metadata": {
        "id": "cMO2lZnCqTBD",
        "colab_type": "code",
        "colab": {}
      },
      "source": [
        "melhor_mlp = melhor_modelo"
      ],
      "execution_count": null,
      "outputs": []
    },
    {
      "cell_type": "markdown",
      "metadata": {
        "id": "JWSNXJ1QaGZE",
        "colab_type": "text"
      },
      "source": [
        "# Modelagem"
      ]
    },
    {
      "cell_type": "markdown",
      "metadata": {
        "id": "8PPLJf2vaLbP",
        "colab_type": "text"
      },
      "source": [
        "# Árvore de Decisão"
      ]
    },
    {
      "cell_type": "code",
      "metadata": {
        "id": "qeE4gyo_ytEo",
        "colab_type": "code",
        "colab": {}
      },
      "source": [
        "predict_train_cart = melhor_cart.predict(X_train)"
      ],
      "execution_count": null,
      "outputs": []
    },
    {
      "cell_type": "markdown",
      "metadata": {
        "id": "AeEnpIoGatPu",
        "colab_type": "text"
      },
      "source": [
        "# KNN"
      ]
    },
    {
      "cell_type": "code",
      "metadata": {
        "id": "kvnEO4EAa86U",
        "colab_type": "code",
        "colab": {}
      },
      "source": [
        "y_pred = melhor_vizinho.predict(X_train)"
      ],
      "execution_count": null,
      "outputs": []
    },
    {
      "cell_type": "markdown",
      "metadata": {
        "id": "h4-G8vc4bEWJ",
        "colab_type": "text"
      },
      "source": [
        "# MLP\n"
      ]
    },
    {
      "cell_type": "code",
      "metadata": {
        "id": "P-e_eQ5QbMX9",
        "colab_type": "code",
        "colab": {}
      },
      "source": [
        "predict_train_mlp = melhor_mlp.predict(X_train)"
      ],
      "execution_count": null,
      "outputs": []
    },
    {
      "cell_type": "markdown",
      "metadata": {
        "id": "oUBh8F_ZbX8W",
        "colab_type": "text"
      },
      "source": [
        "# Resultado Treinamento"
      ]
    },
    {
      "cell_type": "code",
      "metadata": {
        "id": "0K3JR9ftbbn-",
        "colab_type": "code",
        "colab": {
          "base_uri": "https://localhost:8080/"
        },
        "outputId": "9696e2fd-a54f-4928-a86a-792fb00470c4"
      },
      "source": [
        "acc_cart = metrics.accuracy_score(y_train, predict_train_cart)\n",
        "acc_knn = metrics.accuracy_score(y_train, y_pred)\n",
        "acc_mlp = metrics.accuracy_score(y_train, predict_train_mlp)\n",
        "print(\"ACC da MLP em Treinamento\", acc_mlp * 100)\n",
        "print(\"ACC do KNN em Treinamento\", acc_knn * 100)\n",
        "print(\"ACC da Árvore em Treinamento\", acc_cart * 100)"
      ],
      "execution_count": null,
      "outputs": [
        {
          "output_type": "stream",
          "text": [
            "ACC da MLP em Treinamento 72.26666666666667\n",
            "ACC do KNN em Treinamento 100.0\n",
            "ACC da Árvore em Treinamento 100.0\n"
          ],
          "name": "stdout"
        }
      ]
    },
    {
      "cell_type": "markdown",
      "metadata": {
        "id": "zK-QBekhbf6q",
        "colab_type": "text"
      },
      "source": [
        "# Resultado Teste"
      ]
    },
    {
      "cell_type": "code",
      "metadata": {
        "id": "a7T0sC-FbieY",
        "colab_type": "code",
        "colab": {}
      },
      "source": [
        "cart_pred_test = cart.predict(X_test)\n",
        "knn_pred_test = knn.predict(X_test)\n",
        "mlp_pred_test = mlp.predict(X_test)"
      ],
      "execution_count": null,
      "outputs": []
    },
    {
      "cell_type": "code",
      "metadata": {
        "id": "AoVnDOcBbmNb",
        "colab_type": "code",
        "colab": {}
      },
      "source": [
        "acc_cart = metrics.accuracy_score(y_test, cart_pred_test)\n",
        "acc_knn = metrics.accuracy_score(y_test, knn_pred_test)\n",
        "acc_mlp = metrics.accuracy_score(y_test, mlp_pred_test)"
      ],
      "execution_count": null,
      "outputs": []
    },
    {
      "cell_type": "code",
      "metadata": {
        "id": "m4LiEyPabn0w",
        "colab_type": "code",
        "colab": {
          "base_uri": "https://localhost:8080/"
        },
        "outputId": "bc2ec905-9678-4864-c83b-f40a43a5b2ec"
      },
      "source": [
        "print(\"ACC da Arvore em Teste %.2f\" %(acc_cart * 100))\n",
        "print(\"ACC do KNN em Teste %.2f\" %(acc_knn * 100))\n",
        "print(\"ACC da MLP em Teste %.2f\" %(acc_mlp * 100))"
      ],
      "execution_count": null,
      "outputs": [
        {
          "output_type": "stream",
          "text": [
            "ACC da Arvore em Teste 65.20\n",
            "ACC do KNN em Teste 64.80\n",
            "ACC da MLP em Teste 70.40\n"
          ],
          "name": "stdout"
        }
      ]
    },
    {
      "cell_type": "code",
      "metadata": {
        "id": "YV0aHSuYbsIL",
        "colab_type": "code",
        "colab": {
          "base_uri": "https://localhost:8080/"
        },
        "outputId": "0a678841-40a6-48ba-8788-d18893a03317"
      },
      "source": [
        "plt.bar(['Árvore', 'KNN', 'MLP'],[acc_cart*100, acc_knn*100, acc_mlp*100], color=['r', 'g', 'b'])"
      ],
      "execution_count": null,
      "outputs": [
        {
          "output_type": "execute_result",
          "data": {
            "text/plain": [
              "<BarContainer object of 3 artists>"
            ]
          },
          "metadata": {
            "tags": []
          },
          "execution_count": 47
        },
        {
          "output_type": "display_data",
          "data": {
            "image/png": "[encoded data removed]",
            "text/plain": [
              "<Figure size 432x288 with 1 Axes>"
            ]
          },
          "metadata": {
            "tags": [],
            "needs_background": "light"
          }
        }
      ]
    }
  ]
}